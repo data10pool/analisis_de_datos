{
 "cells": [
  {
   "cell_type": "code",
   "execution_count": 19,
   "metadata": {},
   "outputs": [
    {
     "name": "stdout",
     "output_type": "stream",
     "text": [
      "El numero no es 6\n",
      "El numero es menos que 6\n"
     ]
    }
   ],
   "source": [
    "# Indentation (es el espacio que hay despues de los :)\n",
    "#{},;,() estas llaves delimitan bloques de codigo en otros lenguajes como Javascrip en Python no\n",
    "v1 = 5\n",
    "if v1 == 6:\n",
    "    print(\"El numero es 6\")\n",
    "    print(\"El numero es positivo\")\n",
    "else:\n",
    "    print(\"El numero no es 6\")\n",
    "    print(\"El numero es menos que 6\")\n"
   ]
  },
  {
   "cell_type": "code",
   "execution_count": 20,
   "metadata": {},
   "outputs": [],
   "source": [
    "# Comentarios\n",
    "# Usar: para documentar el codigo, documentar funciones para que nuestro codigo sea legible"
   ]
  },
  {
   "cell_type": "code",
   "execution_count": 21,
   "metadata": {},
   "outputs": [],
   "source": [
    "# Variables\n",
    "# En Java la variable 1 tiene que ser string;()\n",
    "\n",
    "variable1 = 'Datapath' #string\n",
    "variable2 = 3 #enteros\n",
    "variable3 = 2.4 #decimales\n",
    "variable4 = 3j #complejos"
   ]
  },
  {
   "cell_type": "code",
   "execution_count": 22,
   "metadata": {},
   "outputs": [
    {
     "name": "stdout",
     "output_type": "stream",
     "text": [
      "<class 'str'>\n",
      "<class 'int'>\n",
      "<class 'float'>\n",
      "<class 'complex'>\n"
     ]
    }
   ],
   "source": [
    "print(type(variable1))\n",
    "print(type(variable2))\n",
    "print(type(variable3))\n",
    "print(type(variable4))"
   ]
  },
  {
   "cell_type": "code",
   "execution_count": 23,
   "metadata": {},
   "outputs": [
    {
     "name": "stdout",
     "output_type": "stream",
     "text": [
      "pera\n",
      "manzana\n",
      "platano\n"
     ]
    }
   ],
   "source": [
    "x,y,z = 'pera','manzana', 'platano'\n",
    "print(x)\n",
    "print(y)\n",
    "print(z)"
   ]
  },
  {
   "cell_type": "code",
   "execution_count": 24,
   "metadata": {},
   "outputs": [
    {
     "name": "stdout",
     "output_type": "stream",
     "text": [
      "D\n"
     ]
    }
   ],
   "source": [
    "#String \n",
    "var1 = \"Datapath\"\n",
    "print(var1[0])"
   ]
  },
  {
   "cell_type": "code",
   "execution_count": 25,
   "metadata": {},
   "outputs": [],
   "source": [
    "# Listas\n",
    "lista1 = []\n",
    "lista2 = [1,2,5,6,9] #lista de enteros\n",
    "lista3 = ['Datapath','Python']\n",
    "lsita4 = [1,'Python',4] # Lista mixta\n",
    "lista5 = ['Manzana' ,4, [4,5,7], [1,6,'Datapath']] #Lista anidada\n"
   ]
  },
  {
   "cell_type": "code",
   "execution_count": 26,
   "metadata": {},
   "outputs": [
    {
     "name": "stdout",
     "output_type": "stream",
     "text": [
      "['Manzana', 4, [4, 5, 7], [1, 6, 'Datapath']]\n",
      "Manzana\n",
      "[1, 6, 'Datapath']\n",
      "Datapath\n"
     ]
    }
   ],
   "source": [
    "print(lista5)\n",
    "print(lista5[0])\n",
    "print(lista5[3])\n",
    "print(lista5[3][2])"
   ]
  },
  {
   "cell_type": "code",
   "execution_count": 1,
   "metadata": {},
   "outputs": [],
   "source": [
    "num1 = float(input(\"Ingresa el primer número: \"))\n",
    "num2 = float(input(\"Ingresa el segundo número: \"))\n",
    "suma = num1 + num2\n",
    "print(\"La suma es:\", suma)\n"
   ]
  },
  {
   "cell_type": "code",
   "execution_count": 4,
   "metadata": {},
   "outputs": [
    {
     "name": "stdout",
     "output_type": "stream",
     "text": [
      "[1, 2, 3, 4]\n",
      "[1, 2]\n",
      "[2, 3]\n"
     ]
    }
   ],
   "source": [
    "lista_nueva = [1,3,4,5]\n",
    "# Corregir lista\n",
    "lista_nueva[1]=2\n",
    "lista_nueva[2]=3\n",
    "lista_nueva[3]=4\n",
    "print(lista_nueva)\n",
    "print(lista_nueva[0:2])\n",
    "print(lista_nueva[1:3])"
   ]
  },
  {
   "cell_type": "code",
   "execution_count": 5,
   "metadata": {},
   "outputs": [
    {
     "name": "stdout",
     "output_type": "stream",
     "text": [
      "[1, 7, 8, 4]\n"
     ]
    }
   ],
   "source": [
    "lista_nueva[1:3] = [7,8]\n",
    "print(lista_nueva)"
   ]
  },
  {
   "cell_type": "code",
   "execution_count": 8,
   "metadata": {},
   "outputs": [
    {
     "name": "stdout",
     "output_type": "stream",
     "text": [
      "[1, 7, 8, 4, 10, 2, 3, 5, 10]\n",
      "[1, 7, 8, 4, 10, 2, 3, 5, 10, 2, 3, 5]\n"
     ]
    }
   ],
   "source": [
    "#Metodo append --> Agregar un elemento\n",
    "#Metodo extend --> Agregar una lista de elementos\n",
    "lista_nueva.append(10)\n",
    "print(lista_nueva)\n",
    "lista_nueva.extend([2,3,5])\n",
    "print(lista_nueva)"
   ]
  },
  {
   "cell_type": "code",
   "execution_count": 9,
   "metadata": {},
   "outputs": [
    {
     "name": "stdout",
     "output_type": "stream",
     "text": [
      "[1, 7, 8, 4, 10, 2, 3, 5, 10, 2, 3, 5, [12, 13, 15]]\n"
     ]
    }
   ],
   "source": [
    "lista_nueva.append([12,13,15])\n",
    "print(lista_nueva)"
   ]
  },
  {
   "cell_type": "code",
   "execution_count": 12,
   "metadata": {},
   "outputs": [
    {
     "name": "stdout",
     "output_type": "stream",
     "text": [
      "1\n",
      "7\n",
      "8\n",
      "4\n",
      "10\n",
      "2\n",
      "3\n",
      "5\n",
      "10\n",
      "2\n",
      "3\n",
      "5\n",
      "[12, 13, 15]\n"
     ]
    }
   ],
   "source": [
    "for letra in lista_nueva:\n",
    "    print(letra)"
   ]
  },
  {
   "cell_type": "code",
   "execution_count": 13,
   "metadata": {},
   "outputs": [
    {
     "name": "stdout",
     "output_type": "stream",
     "text": [
      "('Juan', 2, 5, (1, 4, 5))\n"
     ]
    }
   ],
   "source": [
    "#Tuplas\n",
    "tupla = ()\n",
    "\n",
    "tupla_enteros = (1,2,3,4,5,)\n",
    "tupla_mixta = ('Juan',1,4.4)\n",
    "tupla_anidada = ('Juan',2,5,(1,4,5))\n",
    "print(tupla_anidada)"
   ]
  },
  {
   "cell_type": "code",
   "execution_count": 14,
   "metadata": {},
   "outputs": [
    {
     "name": "stdout",
     "output_type": "stream",
     "text": [
      "1\n"
     ]
    }
   ],
   "source": [
    "print(tupla_mixta[1])"
   ]
  },
  {
   "cell_type": "code",
   "execution_count": 18,
   "metadata": {},
   "outputs": [
    {
     "name": "stdout",
     "output_type": "stream",
     "text": [
      "<class 'str'>\n",
      "<class 'tuple'>\n"
     ]
    }
   ],
   "source": [
    "tupla = (\"Manzana\")\n",
    "print(type(tupla))\n",
    "\n",
    "tupla = \"Manzana\",\n",
    "print(type(tupla))\n",
    "\n",
    "#Parentesis opcionales en las tuplas\n"
   ]
  },
  {
   "cell_type": "code",
   "execution_count": 19,
   "metadata": {},
   "outputs": [
    {
     "name": "stdout",
     "output_type": "stream",
     "text": [
      "Juan\n",
      "2\n",
      "5\n",
      "(1, 4, 5)\n"
     ]
    }
   ],
   "source": [
    "for item in tupla_anidada:\n",
    "    print(item)"
   ]
  },
  {
   "cell_type": "code",
   "execution_count": 20,
   "metadata": {},
   "outputs": [
    {
     "name": "stdout",
     "output_type": "stream",
     "text": [
      "{'name': 'Juan', 'edad': 25, 1: '4807652233', 'lista': [1, 2, 3, 4]}\n"
     ]
    }
   ],
   "source": [
    "#Diccionarios\n",
    "#A eso hace referencia que un diccionario tiene clave valor\n",
    "# {\"key\":\"value\",\"key2\":\"value2\"}\n",
    "diccionario = {}\n",
    "diccionario_enteros = {1:\"Juan\",2:\"Maria\"}\n",
    "diccionario_mixto = {'name':\"Juan\",'edad':25,1:\"4807652233\",'lista':[1,2,3,4]}\n",
    "print(diccionario_mixto)\n"
   ]
  },
  {
   "cell_type": "code",
   "execution_count": 21,
   "metadata": {},
   "outputs": [
    {
     "name": "stdout",
     "output_type": "stream",
     "text": [
      "Juan\n"
     ]
    }
   ],
   "source": [
    "print(diccionario_mixto[\"name\"])"
   ]
  },
  {
   "cell_type": "code",
   "execution_count": 25,
   "metadata": {},
   "outputs": [
    {
     "name": "stdout",
     "output_type": "stream",
     "text": [
      "Juan\n",
      "25\n",
      "None\n"
     ]
    }
   ],
   "source": [
    "diccionario_mixto = {'name':\"Juan\",'edad':25}\n",
    "print(diccionario_mixto[\"name\"])\n",
    "print(diccionario_mixto[\"edad\"])\n",
    "print(diccionario_mixto.get(\"address\"))"
   ]
  },
  {
   "cell_type": "code",
   "execution_count": null,
   "metadata": {},
   "outputs": [],
   "source": [
    "#if, while, for\n",
    "    "
   ]
  },
  {
   "cell_type": "code",
   "execution_count": 3,
   "metadata": {},
   "outputs": [
    {
     "name": "stdout",
     "output_type": "stream",
     "text": [
      "0\n",
      "1\n",
      "2\n",
      "4\n",
      "5\n"
     ]
    }
   ],
   "source": [
    "#break, continue, pass\n",
    "#continue\n",
    "for item in range(6):\n",
    "    if item == 3:\n",
    "        continue\n",
    "    print(item)"
   ]
  },
  {
   "cell_type": "code",
   "execution_count": 6,
   "metadata": {},
   "outputs": [],
   "source": [
    "#pass --> te permite usar for o funciones sin un codigo si le quito el pass te dara un error\n",
    "for item in range(6):\n",
    "    pass"
   ]
  },
  {
   "cell_type": "code",
   "execution_count": 7,
   "metadata": {},
   "outputs": [
    {
     "name": "stdout",
     "output_type": "stream",
     "text": [
      "try\n",
      "ha sucesido un error\n"
     ]
    }
   ],
   "source": [
    "try:\n",
    "    print(\"try\")\n",
    "    b = 5/0\n",
    "except:\n",
    "    print(\"ha sucesido un error\")"
   ]
  },
  {
   "cell_type": "code",
   "execution_count": 11,
   "metadata": {},
   "outputs": [
    {
     "name": "stdout",
     "output_type": "stream",
     "text": [
      "16\n",
      "4\n",
      "60\n",
      "1.6666666666666667\n",
      "1\n",
      "4\n"
     ]
    }
   ],
   "source": [
    "#operadores de asignacion\n",
    "a = 10\n",
    "b = 6\n",
    "x = a + b\n",
    "x = a; x+=b; print(x)# x+=b; x= x+b\n",
    "x = a; x-=b; print(x)\n",
    "x = a; x*=b; print(x)\n",
    "x = a; x/=b; print(x)\n",
    "x = a; x//=b; print(x)\n",
    "x = a; x%=b; print(x)"
   ]
  },
  {
   "cell_type": "code",
   "execution_count": 12,
   "metadata": {},
   "outputs": [],
   "source": [
    "#Funciones\n",
    "def funcion(num):\n",
    "    return num*4"
   ]
  },
  {
   "cell_type": "code",
   "execution_count": 13,
   "metadata": {},
   "outputs": [
    {
     "data": {
      "text/plain": [
       "16"
      ]
     },
     "execution_count": 13,
     "metadata": {},
     "output_type": "execute_result"
    }
   ],
   "source": [
    "funcion(4)"
   ]
  },
  {
   "cell_type": "code",
   "execution_count": 14,
   "metadata": {},
   "outputs": [],
   "source": [
    "def suma(a,b):\n",
    "    return a + b "
   ]
  },
  {
   "cell_type": "code",
   "execution_count": 15,
   "metadata": {},
   "outputs": [
    {
     "data": {
      "text/plain": [
       "12"
      ]
     },
     "execution_count": 15,
     "metadata": {},
     "output_type": "execute_result"
    }
   ],
   "source": [
    "suma(6,6)"
   ]
  },
  {
   "cell_type": "code",
   "execution_count": 16,
   "metadata": {},
   "outputs": [
    {
     "data": {
      "text/plain": [
       "7"
      ]
     },
     "execution_count": 16,
     "metadata": {},
     "output_type": "execute_result"
    }
   ],
   "source": [
    "suma = lambda a,b: a+b\n",
    "suma(2,5)"
   ]
  },
  {
   "cell_type": "code",
   "execution_count": 17,
   "metadata": {},
   "outputs": [],
   "source": [
    "def suma_numero(num):\n",
    "    suma=0\n",
    "    i=1\n",
    "    while i<=num:\n",
    "        suma += i\n",
    "        i +=1\n",
    "    return suma"
   ]
  },
  {
   "cell_type": "code",
   "execution_count": 18,
   "metadata": {},
   "outputs": [
    {
     "data": {
      "text/plain": [
       "120"
      ]
     },
     "execution_count": 18,
     "metadata": {},
     "output_type": "execute_result"
    }
   ],
   "source": [
    "suma_numero(15)"
   ]
  },
  {
   "cell_type": "markdown",
   "metadata": {},
   "source": [
    "### ejercicios\n",
    "1. funcion para buscar un elemento en una lista\n",
    "2. funcion que sume los numeros positivos de una lista\n",
    "3. funcion que busque una clave de una diccionario\n",
    "4. filtrar numeros impares en una lista"
   ]
  },
  {
   "cell_type": "code",
   "execution_count": 25,
   "metadata": {},
   "outputs": [],
   "source": [
    "def buscar_elemento(elemento):\n",
    "    lista = [1,2,3,4,5]\n",
    "    for item in lista:\n",
    "        if item==elemento:\n",
    "            print(f\"Encontraste el elemento: {elemento}\")\n",
    "            break\n",
    "        else:\n",
    "            continue\n",
    "     \n",
    "    \n",
    "        #print(\"No existe el elemento\")\n",
    "        \n",
    "    "
   ]
  },
  {
   "cell_type": "code",
   "execution_count": 27,
   "metadata": {},
   "outputs": [],
   "source": [
    "buscar_elemento(6)"
   ]
  },
  {
   "cell_type": "code",
   "execution_count": 28,
   "metadata": {},
   "outputs": [],
   "source": [
    "def suma_positivos():\n",
    "    lista = [-10,-15,-5,1,2,3,4,5,6]\n",
    "    suma = 0\n",
    "    for item in lista:\n",
    "        if item>0:\n",
    "            suma+=item\n",
    "    return suma\n",
    "            \n",
    "     \n",
    "    print(f\"La suma de positivos es: {suma}\")"
   ]
  },
  {
   "cell_type": "code",
   "execution_count": 29,
   "metadata": {},
   "outputs": [
    {
     "data": {
      "text/plain": [
       "21"
      ]
     },
     "execution_count": 29,
     "metadata": {},
     "output_type": "execute_result"
    }
   ],
   "source": [
    "suma_positivos()"
   ]
  },
  {
   "cell_type": "code",
   "execution_count": 31,
   "metadata": {},
   "outputs": [],
   "source": [
    "def busqueda_diccionario(clave):\n",
    "    doccionario = {'name':\"Juan\",'edad':25,1:\"4807652233\",'lista':[1,2,3,4]}\n",
    "    if doccionario.get(clave):\n",
    "        return True\n",
    "    else:\n",
    "        return False\n",
    "            \n",
    "     \n",
    "    #print(f\"La suma de positivos es: {suma}\")"
   ]
  },
  {
   "cell_type": "code",
   "execution_count": 33,
   "metadata": {},
   "outputs": [
    {
     "data": {
      "text/plain": [
       "True"
      ]
     },
     "execution_count": 33,
     "metadata": {},
     "output_type": "execute_result"
    }
   ],
   "source": [
    "busqueda_diccionario('name')"
   ]
  },
  {
   "cell_type": "code",
   "execution_count": 17,
   "metadata": {},
   "outputs": [],
   "source": [
    "def lista_negativos():\n",
    "    lista = [1,2,3,4,5,6]\n",
    "    suma = 0\n",
    "    lista_nueva =[]\n",
    "    for item in lista:\n",
    "        if item%2==1:\n",
    "            lista_nueva.append(item)\n",
    "            \n",
    "     \n",
    "    print(lista_nueva)"
   ]
  },
  {
   "cell_type": "code",
   "execution_count": 18,
   "metadata": {},
   "outputs": [
    {
     "name": "stdout",
     "output_type": "stream",
     "text": [
      "[1, 3, 5]\n"
     ]
    }
   ],
   "source": [
    "lista_negativos()"
   ]
  },
  {
   "cell_type": "code",
   "execution_count": null,
   "metadata": {},
   "outputs": [],
   "source": [
    "lista_nueva.append(10)\n",
    "print(lista_nueva)\n",
    "lista_nueva.extend([2,3,5])\n",
    "print(lista_nueva)"
   ]
  }
 ],
 "metadata": {
  "kernelspec": {
   "display_name": "Python 3",
   "language": "python",
   "name": "python3"
  },
  "language_info": {
   "codemirror_mode": {
    "name": "ipython",
    "version": 3
   },
   "file_extension": ".py",
   "mimetype": "text/x-python",
   "name": "python",
   "nbconvert_exporter": "python",
   "pygments_lexer": "ipython3",
   "version": "3.12.1"
  }
 },
 "nbformat": 4,
 "nbformat_minor": 2
}
