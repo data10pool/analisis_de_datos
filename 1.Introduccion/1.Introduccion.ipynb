{
 "cells": [
  {
   "cell_type": "code",
   "execution_count": 2,
   "metadata": {},
   "outputs": [
    {
     "name": "stdout",
     "output_type": "stream",
     "text": [
      "El numero no es 6\n",
      "El numero es menos que 6\n"
     ]
    }
   ],
   "source": [
    "# Indentation (es el espacio que hay despues de los :)\n",
    "#{},;,() estas llaves delimitan bloques de codigo en otros lenguajes como Javascrip en Python no\n",
    "v1 = 5\n",
    "if v1 == 6:\n",
    "    print(\"El numero es 6\")\n",
    "    print(\"El numero es positivo\")\n",
    "else:\n",
    "    print(\"El numero no es 6\")\n",
    "    print(\"El numero es menos que 6\")\n"
   ]
  },
  {
   "cell_type": "code",
   "execution_count": null,
   "metadata": {},
   "outputs": [],
   "source": [
    "# Comentarios\n",
    "# Usar: para documentar el codigo, documentar funciones para que nuestro codigo sea legible"
   ]
  },
  {
   "cell_type": "code",
   "execution_count": 3,
   "metadata": {},
   "outputs": [],
   "source": [
    "# Variables\n",
    "# En Java la variable 1 tiene que ser string;()\n",
    "\n",
    "variable1 = 'Datapath' #string\n",
    "variable2 = 3 #enteros\n",
    "variable3 = 2.4 #decimales\n",
    "variable4 = 3j #complejos"
   ]
  },
  {
   "cell_type": "code",
   "execution_count": 4,
   "metadata": {},
   "outputs": [
    {
     "name": "stdout",
     "output_type": "stream",
     "text": [
      "<class 'str'>\n",
      "<class 'int'>\n",
      "<class 'float'>\n",
      "<class 'complex'>\n"
     ]
    }
   ],
   "source": [
    "print(type(variable1))\n",
    "print(type(variable2))\n",
    "print(type(variable3))\n",
    "print(type(variable4))"
   ]
  },
  {
   "cell_type": "code",
   "execution_count": 5,
   "metadata": {},
   "outputs": [
    {
     "name": "stdout",
     "output_type": "stream",
     "text": [
      "pera\n",
      "manzana\n",
      "platano\n"
     ]
    }
   ],
   "source": [
    "x,y,z = 'pera','manzana', 'platano'\n",
    "print(x)\n",
    "print(y)\n",
    "print(z)"
   ]
  },
  {
   "cell_type": "code",
   "execution_count": 6,
   "metadata": {},
   "outputs": [
    {
     "name": "stdout",
     "output_type": "stream",
     "text": [
      "D\n"
     ]
    }
   ],
   "source": [
    "#String \n",
    "var1 = \"Datapath\"\n",
    "print(var1[0])"
   ]
  },
  {
   "cell_type": "code",
   "execution_count": 7,
   "metadata": {},
   "outputs": [],
   "source": [
    "# Listas\n",
    "lista1 = []\n",
    "lista2 = [1,2,5,6,9] #lista de enteros\n",
    "lista3 = ['Datapath','Python']\n",
    "lsita4 = [1,'Python',4] # Lista mixta\n",
    "lista5 = ['Manzana' ,4, [4,5,7], [1,6,'Datapath']] #Lista anidada\n"
   ]
  },
  {
   "cell_type": "code",
   "execution_count": 10,
   "metadata": {},
   "outputs": [
    {
     "name": "stdout",
     "output_type": "stream",
     "text": [
      "['Manzana', 4, [4, 5, 7], [1, 6, 'Datapath']]\n",
      "Manzana\n",
      "[1, 6, 'Datapath']\n",
      "Datapath\n"
     ]
    }
   ],
   "source": [
    "print(lista5)\n",
    "print(lista5[0])\n",
    "print(lista5[3])\n",
    "print(lista5[3][2])"
   ]
  },
  {
   "cell_type": "code",
   "execution_count": null,
   "metadata": {},
   "outputs": [],
   "source": []
  }
 ],
 "metadata": {
  "kernelspec": {
   "display_name": "Python 3",
   "language": "python",
   "name": "python3"
  },
  "language_info": {
   "codemirror_mode": {
    "name": "ipython",
    "version": 3
   },
   "file_extension": ".py",
   "mimetype": "text/x-python",
   "name": "python",
   "nbconvert_exporter": "python",
   "pygments_lexer": "ipython3",
   "version": "3.12.1"
  }
 },
 "nbformat": 4,
 "nbformat_minor": 2
}
